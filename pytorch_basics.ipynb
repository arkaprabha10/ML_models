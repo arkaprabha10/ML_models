{
  "nbformat": 4,
  "nbformat_minor": 0,
  "metadata": {
    "colab": {
      "name": "pytorch_basics.ipynb",
      "provenance": [],
      "collapsed_sections": []
    },
    "kernelspec": {
      "name": "python3",
      "display_name": "Python 3"
    }
  },
  "cells": [
    {
      "cell_type": "code",
      "metadata": {
        "id": "N_NYvE-Gdadi"
      },
      "source": [
        "# importing the libraries\r\n",
        "import pandas as pd\r\n",
        "import numpy as np\r\n",
        "\r\n",
        "# for reading and displaying images\r\n",
        "from skimage.io import imread\r\n",
        "import matplotlib.pyplot as plt\r\n",
        "%matplotlib inline\r\n",
        "\r\n",
        "# for creating validation set\r\n",
        "from sklearn.model_selection import train_test_split\r\n",
        "\r\n",
        "# for evaluating the model\r\n",
        "from sklearn.metrics import accuracy_score\r\n",
        "from tqdm import tqdm\r\n",
        "\r\n",
        "# PyTorch libraries and modules\r\n",
        "import torch\r\n",
        "from torch.autograd import Variable\r\n",
        "from torch.nn import Linear, ReLU, CrossEntropyLoss, Sequential, Conv2d, MaxPool2d, Module, Softmax, BatchNorm2d, Dropout\r\n",
        "from torch.optim import Adam, SGD"
      ],
      "execution_count": null,
      "outputs": []
    },
    {
      "cell_type": "code",
      "metadata": {
        "colab": {
          "base_uri": "https://localhost:8080/"
        },
        "id": "9M5o1_5Xdkq2",
        "outputId": "39d422b7-c327-4595-f855-684d9fc0b846"
      },
      "source": [
        "import torch\r\n",
        "a=torch.tensor([0,1,2.1],dtype=torch.int32)\r\n",
        "b=a.view(3,1)\r\n",
        "print(a)\r\n",
        "c=torch.tensor([[1,2],[2,3],[3,4]])\r\n",
        "print(c.type)\r\n",
        "#new_float_tensor = old_int_tensor.type(torch.FloatTensor)"
      ],
      "execution_count": null,
      "outputs": [
        {
          "output_type": "stream",
          "text": [
            "tensor([0, 1, 2], dtype=torch.int32)\n",
            "<built-in method type of Tensor object at 0x7fde3e674ee8>\n"
          ],
          "name": "stdout"
        }
      ]
    },
    {
      "cell_type": "code",
      "metadata": {
        "colab": {
          "base_uri": "https://localhost:8080/"
        },
        "id": "_MZhOCH2GmTv",
        "outputId": "be8266d7-d3f2-4b79-e67b-ea2d0e6c56b1"
      },
      "source": [
        "a=torch.tensor(2.0,requires_grad=True)\r\n",
        "b=a**3\r\n",
        "b.backward()\r\n",
        "print(a.grad)"
      ],
      "execution_count": null,
      "outputs": [
        {
          "output_type": "stream",
          "text": [
            "tensor(12.)\n"
          ],
          "name": "stdout"
        }
      ]
    },
    {
      "cell_type": "code",
      "metadata": {
        "colab": {
          "base_uri": "https://localhost:8080/"
        },
        "id": "-jxAJw7vCLSF",
        "outputId": "a72febbf-4c83-4560-ae90-ec4f008ce6c2"
      },
      "source": [
        "a=np.array([1,2,3])\r\n",
        "b=torch.from_numpy(a)\r\n",
        "c=b.numpy()\r\n",
        "print(b)"
      ],
      "execution_count": null,
      "outputs": [
        {
          "output_type": "stream",
          "text": [
            "tensor([1, 2, 3])\n"
          ],
          "name": "stdout"
        }
      ]
    },
    {
      "cell_type": "code",
      "metadata": {
        "colab": {
          "base_uri": "https://localhost:8080/"
        },
        "id": "KXexeXEsTZ2v",
        "outputId": "1a81bb64-bd47-45cf-b8a9-7185cd726eb1"
      },
      "source": [
        "# Basic Linear Output\r\n",
        "import torch\r\n",
        "\r\n",
        "b=torch.tensor(-1.0,requires_grad=True)\r\n",
        "w=torch.tensor(2.0,requires_grad=True)\r\n",
        "x=torch.tensor([1.0])\r\n",
        "def forward(x):\r\n",
        "  y=w*x+b\r\n",
        "  return y\r\n",
        "y_hat=forward(x)\r\n",
        "print(y_hat)\r\n"
      ],
      "execution_count": null,
      "outputs": [
        {
          "output_type": "stream",
          "text": [
            "tensor([1.], grad_fn=<AddBackward0>)\n"
          ],
          "name": "stdout"
        }
      ]
    },
    {
      "cell_type": "code",
      "metadata": {
        "colab": {
          "base_uri": "https://localhost:8080/"
        },
        "id": "bITvJpNGWucx",
        "outputId": "8c504d2c-bd97-4ca3-b88b-522603772303"
      },
      "source": [
        "#Basic Linear output using Linear - Pytorch Tensor\r\n",
        "\r\n",
        "from torch.nn import Linear\r\n",
        "torch.manual_seed(1)\r\n",
        "lr = Linear(in_features=1, out_features=1, bias=True)\r\n",
        "print(\"Parameters w and b: \", list(lr.parameters()))\r\n",
        "print(\"Python dictionary: \",lr.state_dict())\r\n",
        "print(\"keys: \",lr.state_dict().keys())\r\n",
        "print(\"values: \",lr.state_dict().values())\r\n",
        "x = torch.tensor([[1.0], [2.0]])\r\n",
        "yhat = lr(x)\r\n",
        "print(\"The prediction: \", yhat)"
      ],
      "execution_count": null,
      "outputs": [
        {
          "output_type": "stream",
          "text": [
            "Parameters w and b:  [Parameter containing:\n",
            "tensor([[0.5153]], requires_grad=True), Parameter containing:\n",
            "tensor([-0.4414], requires_grad=True)]\n",
            "Python dictionary:  OrderedDict([('weight', tensor([[0.5153]])), ('bias', tensor([-0.4414]))])\n",
            "keys:  odict_keys(['weight', 'bias'])\n",
            "values:  odict_values([tensor([[0.5153]]), tensor([-0.4414])])\n",
            "The prediction:  tensor([[0.0739],\n",
            "        [0.5891]], grad_fn=<AddmmBackward>)\n"
          ],
          "name": "stdout"
        }
      ]
    },
    {
      "cell_type": "code",
      "metadata": {
        "colab": {
          "base_uri": "https://localhost:8080/"
        },
        "id": "_U0EXTC_OLTd",
        "outputId": "a026df08-c781-4419-e601-707ac72397e7"
      },
      "source": [
        "\r\n",
        "m = torch.nn.Linear(20, 30)\r\n",
        "input = torch.randn(128, 20)\r\n",
        "output = m(input)\r\n",
        "print(output.size())"
      ],
      "execution_count": null,
      "outputs": [
        {
          "output_type": "stream",
          "text": [
            "torch.Size([128, 30])\n"
          ],
          "name": "stdout"
        }
      ]
    }
  ]
}