{
  "nbformat": 4,
  "nbformat_minor": 0,
  "metadata": {
    "colab": {
      "name": "VAE_pre_processing.ipynb",
      "provenance": [],
      "collapsed_sections": [],
      "include_colab_link": true
    },
    "kernelspec": {
      "name": "python3",
      "display_name": "Python 3"
    }
  },
  "cells": [
    {
      "cell_type": "markdown",
      "metadata": {
        "id": "view-in-github",
        "colab_type": "text"
      },
      "source": [
        "<a href=\"https://colab.research.google.com/github/arkaprabha10/Samsung-PRISM/blob/main/VAE_pre_processing.ipynb\" target=\"_parent\"><img src=\"https://colab.research.google.com/assets/colab-badge.svg\" alt=\"Open In Colab\"/></a>"
      ]
    },
    {
      "cell_type": "code",
      "metadata": {
        "id": "3dicXJpEWwIN"
      },
      "source": [
        "#!pip install python_speech_features\n",
        "!pip install --upgrade librosa"
      ],
      "execution_count": null,
      "outputs": []
    },
    {
      "cell_type": "markdown",
      "metadata": {
        "id": "N9-eDWb6p7BI"
      },
      "source": [
        "80 MEL FILTERBANK FEATURES METHOD 1\n"
      ]
    },
    {
      "cell_type": "code",
      "metadata": {
        "colab": {
          "base_uri": "https://localhost:8080/"
        },
        "id": "P63aUxgyW9YN",
        "outputId": "ad855812-8c0d-4757-b11e-5413ab34423c"
      },
      "source": [
        "import librosa\n",
        "import numpy\n",
        "import scipy.io.wavfile\n",
        "from scipy.fftpack import dct\n",
        "from scipy import signal\n",
        "\n",
        "audio_path = '/input.wav'\n",
        "sample_rate, signal = scipy.io.wavfile.read(audio_path)\n",
        "y , sr = librosa.load(audio_path,sr=None)\n",
        "pre_emphasis = 0.97\n",
        "emphasized_signal = numpy.append(signal[0], signal[1:] - pre_emphasis * signal[:-1])\n",
        "frame_size = 0.025\n",
        "frame_stride = 0.01\n",
        "\n",
        "frame_length, frame_step = frame_size * sample_rate, frame_stride * sample_rate  # Convert from seconds to samples\n",
        "signal_length = len(emphasized_signal)\n",
        "frame_length = int(round(frame_length))\n",
        "frame_step = int(round(frame_step))\n",
        "num_frames = int(numpy.ceil(float(numpy.abs(signal_length - frame_length)) / frame_step))  # Make sure that we have at least 1 frame\n",
        "\n",
        "pad_signal_length = num_frames * frame_step + frame_length\n",
        "z = numpy.zeros((pad_signal_length - signal_length))\n",
        "pad_signal = numpy.append(emphasized_signal, z) # Pad Signal to make sure that all frames have equal number of samples without truncating any samples from the original signal\n",
        "\n",
        "#indices = numpy.tile(numpy.arange(0, frame_length), (num_frames, 1)) + numpy.tile(numpy.arange(0, num_frames * frame_step, frame_step), (frame_length, 1)).T\n",
        "#frames = pad_signal[indices.astype(numpy.int32, copy=False)]\n",
        "\n",
        "#frames *= numpy.hanning(frame_length)\n",
        "#print(emphasized_signal.shape)\n",
        "# direct conversion doesnt use hamming window\n",
        "#uncomment below to directly use librosa feature\n",
        "#print(ans.shape)\n",
        "print(pad_signal.shape)"
      ],
      "execution_count": null,
      "outputs": [
        {
          "output_type": "stream",
          "text": [
            "(55120,)\n"
          ],
          "name": "stdout"
        }
      ]
    },
    {
      "cell_type": "markdown",
      "metadata": {
        "id": "fijJ-0M5rsKD"
      },
      "source": [
        "80 MEL SCALE OPTION 2 (continued from above)\n",
        "\n"
      ]
    },
    {
      "cell_type": "code",
      "metadata": {
        "colab": {
          "base_uri": "https://localhost:8080/"
        },
        "id": "wolc1t4S4UKa",
        "outputId": "aedbfaab-1889-43fe-96e3-b21ae6fa7102"
      },
      "source": [
        "print(frame_length)\n",
        "for i in range (0,len(pad_signal),frame_step):\n",
        "  temp=pad_signal[i:frame_length+i]\n",
        "  temp*=numpy.hanning(len(temp))\n",
        "  for j in range(len(temp)):\n",
        "    pad_signal[i+j]=temp[j]\n",
        "\n",
        "ans=librosa.feature.melspectrogram(y=pad_signal, sr=sr,n_mels=80)  \n",
        "print(pad_signal.shape)"
      ],
      "execution_count": null,
      "outputs": [
        {
          "output_type": "stream",
          "text": [
            "400\n",
            "(55120,)\n"
          ],
          "name": "stdout"
        }
      ]
    },
    {
      "cell_type": "code",
      "metadata": {
        "colab": {
          "base_uri": "https://localhost:8080/"
        },
        "id": "I6mKyulcrf4q",
        "outputId": "4251dc56-bd53-425e-9643-f2fb27d42ec3"
      },
      "source": [
        "NFFT = 512\n",
        "mag_frames = numpy.absolute(numpy.fft.rfft(frames, NFFT))  # Magnitude of the FFT\n",
        "pow_frames = ((1.0 / NFFT) * ((mag_frames) ** 2))  # Power Spectrum\n",
        "\n",
        "nfilt = 80\n",
        "\n",
        "low_freq_mel = 0\n",
        "high_freq_mel = (2595 * numpy.log10(1 + (sample_rate / 2) / 700))  # Convert Hz to Mel\n",
        "mel_points = numpy.linspace(low_freq_mel, high_freq_mel, nfilt + 2)  # Equally spaced in Mel scale\n",
        "hz_points = (700 * (10**(mel_points / 2595) - 1))  # Convert Mel to Hz\n",
        "bin = numpy.floor((NFFT + 1) * hz_points / sample_rate)\n",
        "\n",
        "fbank = numpy.zeros((nfilt, int(numpy.floor(NFFT / 2 + 1))))\n",
        "for m in range(1, nfilt + 1):\n",
        "    f_m_minus = int(bin[m - 1])   # left\n",
        "    f_m = int(bin[m])             # center\n",
        "    f_m_plus = int(bin[m + 1])    # right\n",
        "\n",
        "    for k in range(f_m_minus, f_m):\n",
        "        fbank[m - 1, k] = (k - bin[m - 1]) / (bin[m] - bin[m - 1])\n",
        "    for k in range(f_m, f_m_plus):\n",
        "        fbank[m - 1, k] = (bin[m + 1] - k) / (bin[m + 1] - bin[m])\n",
        "filter_banks = numpy.dot(pow_frames, fbank.T)\n",
        "filter_banks = numpy.where(filter_banks == 0, numpy.finfo(float).eps, filter_banks)  # Numerical Stability\n",
        "filter_banks = 20 * numpy.log10(filter_banks)  # dB\n",
        "\n",
        "filter_banks -= (numpy.mean(filter_banks, axis=0) + 1e-8)\n",
        "filter_banks=numpy.transpose(filter_banks)\n",
        "print(filter_banks.shape)"
      ],
      "execution_count": null,
      "outputs": [
        {
          "output_type": "stream",
          "text": [
            "(80, 342)\n"
          ],
          "name": "stdout"
        }
      ]
    },
    {
      "cell_type": "code",
      "metadata": {
        "colab": {
          "base_uri": "https://localhost:8080/"
        },
        "id": "fsCylkf0cTCH",
        "outputId": "393d1862-755e-43c2-a75e-c91474773c55"
      },
      "source": [
        "from scipy import signal\n",
        "f_array, t_array, coeff_array = signal.stft(frames, sample_rate)\n",
        "print(coeff_array.shape)\n",
        "print(t_array)\n",
        "print(len(t_array))"
      ],
      "execution_count": null,
      "outputs": [
        {
          "output_type": "stream",
          "text": [
            "(342, 129, 5)\n",
            "[0.    0.008 0.016 0.024 0.032]\n",
            "5\n"
          ],
          "name": "stdout"
        }
      ]
    },
    {
      "cell_type": "code",
      "metadata": {
        "id": "G_6S2VKGyVAJ"
      },
      "source": [
        "from librosa import *\n",
        "import librosa.feature.inverse\n",
        "S = librosa.feature.inverse.mel_to_audio(ans,sr)\n"
      ],
      "execution_count": null,
      "outputs": []
    },
    {
      "cell_type": "code",
      "metadata": {
        "id": "5KOhLTGG2dem"
      },
      "source": [
        "from scipy.io.wavfile import write\n",
        "write('/test1.wav', sr, S)"
      ],
      "execution_count": null,
      "outputs": []
    },
    {
      "cell_type": "code",
      "metadata": {
        "colab": {
          "base_uri": "https://localhost:8080/"
        },
        "id": "7updZjlw2mOB",
        "outputId": "200fca77-0ecb-46e8-a4f3-c4f45f419778"
      },
      "source": [
        "print(S.shape)"
      ],
      "execution_count": null,
      "outputs": [
        {
          "output_type": "stream",
          "text": [
            "(54784,)\n"
          ],
          "name": "stdout"
        }
      ]
    }
  ]
}